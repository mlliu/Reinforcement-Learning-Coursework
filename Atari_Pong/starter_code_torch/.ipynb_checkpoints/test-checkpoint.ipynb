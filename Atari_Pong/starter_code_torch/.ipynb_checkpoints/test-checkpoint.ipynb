{
 "cells": [
  {
   "cell_type": "code",
   "execution_count": 8,
   "id": "595327a5",
   "metadata": {},
   "outputs": [],
   "source": [
    "import numpy as np\n",
    "from utils.test_env import EnvTest\n",
    "\n",
    "\n",
    "class LinearSchedule(object):\n",
    "    def __init__(self, eps_begin, eps_end, nsteps):\n",
    "        \"\"\"\n",
    "        Args:\n",
    "            eps_begin: initial exploration\n",
    "            eps_end: end exploration\n",
    "            nsteps: number of steps between the two values of eps\n",
    "        \"\"\"\n",
    "        self.epsilon        = eps_begin\n",
    "        self.eps_begin      = eps_begin\n",
    "        self.eps_end        = eps_end\n",
    "        self.nsteps         = nsteps\n",
    "\n",
    "\n",
    "    def update(self, t):\n",
    "        \"\"\"\n",
    "        Updates epsilon\n",
    "\n",
    "        Args:\n",
    "            t: int\n",
    "                frame number\n",
    "        \"\"\"\n",
    "        ##############################################################\n",
    "        \"\"\"\n",
    "        TODO: modify self.epsilon such that\n",
    "\t\t\t  it is a linear interpolation from self.eps_begin to\n",
    "\t\t\t  self.eps_end as t goes from 0 to self.nsteps\n",
    "\t\t\t  For t > self.nsteps self.epsilon remains constant\n",
    "        \"\"\"\n",
    "        ##############################################################\n",
    "        ################ YOUR CODE HERE - 3-4 lines ##################\n",
    "        if t<= self.nsteps:\n",
    "            self.epsilon = self.eps_begin -t * (self.eps_begin-self.eps_end) / self.nsteps\n",
    "        else:\n",
    "            self.epsilon = self.eps_end\n",
    "         \n",
    "        ##############################################################\n",
    "        ######################## END YOUR CODE ############## ########\n",
    "\n",
    "\n",
    "class LinearExploration(LinearSchedule):\n",
    "    def __init__(self, env, eps_begin, eps_end, nsteps):\n",
    "        \"\"\"\n",
    "        Args:\n",
    "            env: gym environment\n",
    "            eps_begin: float\n",
    "                initial exploration rate\n",
    "            eps_end: float\n",
    "                final exploration rate\n",
    "            nsteps: int\n",
    "                number of steps taken to linearly decay eps_begin to eps_end\n",
    "        \"\"\"\n",
    "        self.env = env\n",
    "        super(LinearExploration, self).__init__(eps_begin, eps_end, nsteps)\n",
    "\n",
    "\n",
    "    def get_action(self, best_action):\n",
    "        \"\"\"\n",
    "        Returns a random action with prob epsilon, otherwise returns the best_action\n",
    "\n",
    "        Args:\n",
    "            best_action: int\n",
    "                best action according some policy\n",
    "        Returns:\n",
    "            an action\n",
    "        \"\"\"\n",
    "        ##############################################################\n",
    "        \"\"\"\n",
    "        TODO: with probability self.epsilon, return a random action\n",
    "                else, return best_action\n",
    "\n",
    "                you can access the environment via self.env\n",
    "\n",
    "                you may use env.action_space.sample() to generate\n",
    "                a random action\n",
    "        \"\"\"\n",
    "        ##############################################################\n",
    "        ################ YOUR CODE HERE - 4-5 lines ##################\n",
    "\t\t#1-epision  take the optimal policy\n",
    "        #compute t and update epsilon based on t\n",
    "        t= round((self.epsilon-self.eps_begin)/(self.eps_end-self.eps_begin) * self.nsteps +1)\n",
    "        #update the eplison\n",
    "        self.update(t)\n",
    "        print(\"t is %d\",t)\n",
    "        print(\"epsilon is %f\",self.epsilon)\n",
    "        actions = [best_action,self.env.action_space.sample()]#return an random action\n",
    "        act = np.random.choice(actions, 1, p=[1-self.epsilon ,self.epsilon])\n",
    "       \n",
    "        \n",
    "        return act\n",
    "        ##############################################################\n",
    "        ######################## END YOUR CODE #######################\n",
    "\n",
    "\n",
    "\n"
   ]
  },
  {
   "cell_type": "code",
   "execution_count": 9,
   "id": "204b50e1",
   "metadata": {},
   "outputs": [
    {
     "name": "stdout",
     "output_type": "stream",
     "text": [
      "t is %d 1\n",
      "epsilon is %f 0.9\n",
      "[0]\n",
      "t is %d 2\n",
      "epsilon is %f 0.8\n",
      "[1]\n",
      "t is %d 3\n",
      "epsilon is %f 0.7\n",
      "[0]\n",
      "t is %d 4\n",
      "epsilon is %f 0.6\n",
      "[3]\n",
      "t is %d 5\n",
      "epsilon is %f 0.5\n",
      "[1]\n",
      "t is %d 6\n",
      "epsilon is %f 0.4\n",
      "[1]\n",
      "t is %d 7\n",
      "epsilon is %f 0.30000000000000004\n",
      "[0]\n",
      "t is %d 8\n",
      "epsilon is %f 0.19999999999999996\n",
      "[4]\n",
      "t is %d 9\n",
      "epsilon is %f 0.09999999999999998\n",
      "[3]\n",
      "t is %d 10\n",
      "epsilon is %f 0.0\n",
      "[0]\n",
      "Test1: ok\n"
     ]
    }
   ],
   "source": [
    "#test 1\n",
    "env = EnvTest((5, 5, 1))\n",
    "exp_strat = LinearExploration(env, 1, 0, 10)\n",
    "\n",
    "found_diff = False\n",
    "for i in range(10):\n",
    "    rnd_act = exp_strat.get_action(0)\n",
    "    print(rnd_act)\n",
    "    if rnd_act != 0 and rnd_act is not None:\n",
    "        found_diff = True\n",
    "\n",
    "assert found_diff, \"Test 1 failed.\"\n",
    "print(\"Test1: ok\")"
   ]
  },
  {
   "cell_type": "code",
   "execution_count": 12,
   "id": "09c24609",
   "metadata": {},
   "outputs": [
    {
     "ename": "AssertionError",
     "evalue": "Test 2 failed",
     "output_type": "error",
     "traceback": [
      "\u001b[0;31m---------------------------------------------------------------------------\u001b[0m",
      "\u001b[0;31mAssertionError\u001b[0m                            Traceback (most recent call last)",
      "\u001b[0;32m<ipython-input-12-0e598584d2d0>\u001b[0m in \u001b[0;36m<module>\u001b[0;34m\u001b[0m\n\u001b[1;32m      3\u001b[0m \u001b[0mexp_strat\u001b[0m \u001b[0;34m=\u001b[0m \u001b[0mLinearExploration\u001b[0m\u001b[0;34m(\u001b[0m\u001b[0menv\u001b[0m\u001b[0;34m,\u001b[0m \u001b[0;36m1\u001b[0m\u001b[0;34m,\u001b[0m \u001b[0;36m0.5\u001b[0m\u001b[0;34m,\u001b[0m \u001b[0;36m10\u001b[0m\u001b[0;34m)\u001b[0m\u001b[0;34m\u001b[0m\u001b[0;34m\u001b[0m\u001b[0m\n\u001b[1;32m      4\u001b[0m \u001b[0mexp_strat\u001b[0m\u001b[0;34m.\u001b[0m\u001b[0mupdate\u001b[0m\u001b[0;34m(\u001b[0m\u001b[0;36m5\u001b[0m\u001b[0;34m)\u001b[0m\u001b[0;34m\u001b[0m\u001b[0;34m\u001b[0m\u001b[0m\n\u001b[0;32m----> 5\u001b[0;31m \u001b[0;32massert\u001b[0m \u001b[0mexp_strat\u001b[0m\u001b[0;34m.\u001b[0m\u001b[0mepsilon\u001b[0m \u001b[0;34m==\u001b[0m \u001b[0;36m0.5\u001b[0m\u001b[0;34m,\u001b[0m \u001b[0;34m\"Test 2 failed\"\u001b[0m\u001b[0;34m\u001b[0m\u001b[0;34m\u001b[0m\u001b[0m\n\u001b[0m\u001b[1;32m      6\u001b[0m \u001b[0mprint\u001b[0m\u001b[0;34m(\u001b[0m\u001b[0;34m\"Test2: ok\"\u001b[0m\u001b[0;34m)\u001b[0m\u001b[0;34m\u001b[0m\u001b[0;34m\u001b[0m\u001b[0m\n",
      "\u001b[0;31mAssertionError\u001b[0m: Test 2 failed"
     ]
    }
   ],
   "source": [
    "#test2\n",
    "env = EnvTest((5, 5, 1))\n",
    "exp_strat = LinearExploration(env, 1, 0.5, 10)\n",
    "exp_strat.update(5)\n",
    "assert exp_strat.epsilon == 0.5, \"Test 2 failed\"\n",
    "print(\"Test2: ok\")"
   ]
  },
  {
   "cell_type": "code",
   "execution_count": 14,
   "id": "d90e6f52",
   "metadata": {},
   "outputs": [
    {
     "name": "stdout",
     "output_type": "stream",
     "text": [
      "0.5\n"
     ]
    }
   ],
   "source": [
    "exp_strat.update(20)\n",
    "print(exp_strat.epsilon)"
   ]
  },
  {
   "cell_type": "code",
   "execution_count": 16,
   "id": "0ebedec5",
   "metadata": {},
   "outputs": [
    {
     "data": {
      "text/plain": [
       "tensor([0, 1, 2, 0, 1])"
      ]
     },
     "execution_count": 16,
     "metadata": {},
     "output_type": "execute_result"
    }
   ],
   "source": [
    "import torch\n",
    "torch.arange(0, 5)%3"
   ]
  },
  {
   "cell_type": "code",
   "execution_count": 19,
   "id": "5e76c696",
   "metadata": {},
   "outputs": [
    {
     "data": {
      "text/plain": [
       "tensor([1.1275, 3.0460, 1.4119, 2.4357])"
      ]
     },
     "execution_count": 19,
     "metadata": {},
     "output_type": "execute_result"
    }
   ],
   "source": [
    "a = torch.randn(4, 3)\n",
    "torch.sum(a,dim=1)"
   ]
  },
  {
   "cell_type": "code",
   "execution_count": 20,
   "id": "ed759461",
   "metadata": {},
   "outputs": [],
   "source": [
    "a=[1]"
   ]
  },
  {
   "cell_type": "code",
   "execution_count": 21,
   "id": "ff97181f",
   "metadata": {},
   "outputs": [
    {
     "ename": "AttributeError",
     "evalue": "'list' object has no attribute 'value'",
     "output_type": "error",
     "traceback": [
      "\u001b[0;31m---------------------------------------------------------------------------\u001b[0m",
      "\u001b[0;31mAttributeError\u001b[0m                            Traceback (most recent call last)",
      "\u001b[0;32m<ipython-input-21-00df56143c5a>\u001b[0m in \u001b[0;36m<module>\u001b[0;34m\u001b[0m\n\u001b[0;32m----> 1\u001b[0;31m \u001b[0ma\u001b[0m\u001b[0;34m.\u001b[0m\u001b[0mvalue\u001b[0m\u001b[0;34m(\u001b[0m\u001b[0;34m)\u001b[0m\u001b[0;34m\u001b[0m\u001b[0;34m\u001b[0m\u001b[0m\n\u001b[0m",
      "\u001b[0;31mAttributeError\u001b[0m: 'list' object has no attribute 'value'"
     ]
    }
   ],
   "source": [
    "a.value()"
   ]
  },
  {
   "cell_type": "code",
   "execution_count": null,
   "id": "cc1a02ef",
   "metadata": {},
   "outputs": [],
   "source": []
  }
 ],
 "metadata": {
  "kernelspec": {
   "display_name": "Python 3",
   "language": "python",
   "name": "python3"
  },
  "language_info": {
   "codemirror_mode": {
    "name": "ipython",
    "version": 3
   },
   "file_extension": ".py",
   "mimetype": "text/x-python",
   "name": "python",
   "nbconvert_exporter": "python",
   "pygments_lexer": "ipython3",
   "version": "3.8.8"
  }
 },
 "nbformat": 4,
 "nbformat_minor": 5
}
