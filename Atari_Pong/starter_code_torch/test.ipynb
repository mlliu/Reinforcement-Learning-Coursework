{
 "cells": [
  {
   "cell_type": "code",
   "execution_count": 8,
   "id": "36d5be2f",
   "metadata": {},
   "outputs": [],
   "source": [
    "import numpy as np\n",
    "from utils.test_env import EnvTest\n",
    "\n",
    "\n",
    "class LinearSchedule(object):\n",
    "    def __init__(self, eps_begin, eps_end, nsteps):\n",
    "        \"\"\"\n",
    "        Args:\n",
    "            eps_begin: initial exploration\n",
    "            eps_end: end exploration\n",
    "            nsteps: number of steps between the two values of eps\n",
    "        \"\"\"\n",
    "        self.epsilon        = eps_begin\n",
    "        self.eps_begin      = eps_begin\n",
    "        self.eps_end        = eps_end\n",
    "        self.nsteps         = nsteps\n",
    "\n",
    "\n",
    "    def update(self, t):\n",
    "        \"\"\"\n",
    "        Updates epsilon\n",
    "\n",
    "        Args:\n",
    "            t: int\n",
    "                frame number\n",
    "        \"\"\"\n",
    "        ##############################################################\n",
    "        \"\"\"\n",
    "        TODO: modify self.epsilon such that\n",
    "\t\t\t  it is a linear interpolation from self.eps_begin to\n",
    "\t\t\t  self.eps_end as t goes from 0 to self.nsteps\n",
    "\t\t\t  For t > self.nsteps self.epsilon remains constant\n",
    "        \"\"\"\n",
    "        ##############################################################\n",
    "        ################ YOUR CODE HERE - 3-4 lines ##################\n",
    "        if t<= self.nsteps:\n",
    "            self.epsilon = self.eps_begin -t * (self.eps_begin-self.eps_end) / self.nsteps\n",
    "        else:\n",
    "            self.epsilon = self.eps_end\n",
    "         \n",
    "        ##############################################################\n",
    "        ######################## END YOUR CODE ############## ########\n",
    "\n",
    "\n",
    "class LinearExploration(LinearSchedule):\n",
    "    def __init__(self, env, eps_begin, eps_end, nsteps):\n",
    "        \"\"\"\n",
    "        Args:\n",
    "            env: gym environment\n",
    "            eps_begin: float\n",
    "                initial exploration rate\n",
    "            eps_end: float\n",
    "                final exploration rate\n",
    "            nsteps: int\n",
    "                number of steps taken to linearly decay eps_begin to eps_end\n",
    "        \"\"\"\n",
    "        self.env = env\n",
    "        super(LinearExploration, self).__init__(eps_begin, eps_end, nsteps)\n",
    "\n",
    "\n",
    "    def get_action(self, best_action):\n",
    "        \"\"\"\n",
    "        Returns a random action with prob epsilon, otherwise returns the best_action\n",
    "\n",
    "        Args:\n",
    "            best_action: int\n",
    "                best action according some policy\n",
    "        Returns:\n",
    "            an action\n",
    "        \"\"\"\n",
    "        ##############################################################\n",
    "        \"\"\"\n",
    "        TODO: with probability self.epsilon, return a random action\n",
    "                else, return best_action\n",
    "\n",
    "                you can access the environment via self.env\n",
    "\n",
    "                you may use env.action_space.sample() to generate\n",
    "                a random action\n",
    "        \"\"\"\n",
    "        ##############################################################\n",
    "        ################ YOUR CODE HERE - 4-5 lines ##################\n",
    "\t\t#1-epision  take the optimal policy\n",
    "        #compute t and update epsilon based on t\n",
    "        t= round((self.epsilon-self.eps_begin)/(self.eps_end-self.eps_begin) * self.nsteps +1)\n",
    "        #update the eplison\n",
    "        self.update(t)\n",
    "        print(\"t is %d\",t)\n",
    "        print(\"epsilon is %f\",self.epsilon)\n",
    "        actions = [best_action,self.env.action_space.sample()]#return an random action\n",
    "        act = np.random.choice(actions, 1, p=[1-self.epsilon ,self.epsilon])\n",
    "       \n",
    "        \n",
    "        return act\n",
    "        ##############################################################\n",
    "        ######################## END YOUR CODE #######################\n",
    "\n",
    "\n",
    "\n"
   ]
  },
  {
   "cell_type": "code",
   "execution_count": 9,
   "id": "218017c2",
   "metadata": {},
   "outputs": [
    {
     "name": "stdout",
     "output_type": "stream",
     "text": [
      "t is %d 1\n",
      "epsilon is %f 0.9\n",
      "[0]\n",
      "t is %d 2\n",
      "epsilon is %f 0.8\n",
      "[1]\n",
      "t is %d 3\n",
      "epsilon is %f 0.7\n",
      "[0]\n",
      "t is %d 4\n",
      "epsilon is %f 0.6\n",
      "[3]\n",
      "t is %d 5\n",
      "epsilon is %f 0.5\n",
      "[1]\n",
      "t is %d 6\n",
      "epsilon is %f 0.4\n",
      "[1]\n",
      "t is %d 7\n",
      "epsilon is %f 0.30000000000000004\n",
      "[0]\n",
      "t is %d 8\n",
      "epsilon is %f 0.19999999999999996\n",
      "[4]\n",
      "t is %d 9\n",
      "epsilon is %f 0.09999999999999998\n",
      "[3]\n",
      "t is %d 10\n",
      "epsilon is %f 0.0\n",
      "[0]\n",
      "Test1: ok\n"
     ]
    }
   ],
   "source": [
    "#test 1\n",
    "env = EnvTest((5, 5, 1))\n",
    "exp_strat = LinearExploration(env, 1, 0, 10)\n",
    "\n",
    "found_diff = False\n",
    "for i in range(10):\n",
    "    rnd_act = exp_strat.get_action(0)\n",
    "    print(rnd_act)\n",
    "    if rnd_act != 0 and rnd_act is not None:\n",
    "        found_diff = True\n",
    "\n",
    "assert found_diff, \"Test 1 failed.\"\n",
    "print(\"Test1: ok\")"
   ]
  },
  {
   "cell_type": "code",
   "execution_count": 12,
   "id": "440309e7",
   "metadata": {},
   "outputs": [
    {
     "ename": "AssertionError",
     "evalue": "Test 2 failed",
     "output_type": "error",
     "traceback": [
      "\u001b[0;31m---------------------------------------------------------------------------\u001b[0m",
      "\u001b[0;31mAssertionError\u001b[0m                            Traceback (most recent call last)",
      "\u001b[0;32m<ipython-input-12-0e598584d2d0>\u001b[0m in \u001b[0;36m<module>\u001b[0;34m\u001b[0m\n\u001b[1;32m      3\u001b[0m \u001b[0mexp_strat\u001b[0m \u001b[0;34m=\u001b[0m \u001b[0mLinearExploration\u001b[0m\u001b[0;34m(\u001b[0m\u001b[0menv\u001b[0m\u001b[0;34m,\u001b[0m \u001b[0;36m1\u001b[0m\u001b[0;34m,\u001b[0m \u001b[0;36m0.5\u001b[0m\u001b[0;34m,\u001b[0m \u001b[0;36m10\u001b[0m\u001b[0;34m)\u001b[0m\u001b[0;34m\u001b[0m\u001b[0;34m\u001b[0m\u001b[0m\n\u001b[1;32m      4\u001b[0m \u001b[0mexp_strat\u001b[0m\u001b[0;34m.\u001b[0m\u001b[0mupdate\u001b[0m\u001b[0;34m(\u001b[0m\u001b[0;36m5\u001b[0m\u001b[0;34m)\u001b[0m\u001b[0;34m\u001b[0m\u001b[0;34m\u001b[0m\u001b[0m\n\u001b[0;32m----> 5\u001b[0;31m \u001b[0;32massert\u001b[0m \u001b[0mexp_strat\u001b[0m\u001b[0;34m.\u001b[0m\u001b[0mepsilon\u001b[0m \u001b[0;34m==\u001b[0m \u001b[0;36m0.5\u001b[0m\u001b[0;34m,\u001b[0m \u001b[0;34m\"Test 2 failed\"\u001b[0m\u001b[0;34m\u001b[0m\u001b[0;34m\u001b[0m\u001b[0m\n\u001b[0m\u001b[1;32m      6\u001b[0m \u001b[0mprint\u001b[0m\u001b[0;34m(\u001b[0m\u001b[0;34m\"Test2: ok\"\u001b[0m\u001b[0;34m)\u001b[0m\u001b[0;34m\u001b[0m\u001b[0;34m\u001b[0m\u001b[0m\n",
      "\u001b[0;31mAssertionError\u001b[0m: Test 2 failed"
     ]
    }
   ],
   "source": [
    "#test2\n",
    "env = EnvTest((5, 5, 1))\n",
    "exp_strat = LinearExploration(env, 1, 0.5, 10)\n",
    "exp_strat.update(5)\n",
    "assert exp_strat.epsilon == 0.5, \"Test 2 failed\"\n",
    "print(\"Test2: ok\")"
   ]
  },
  {
   "cell_type": "code",
   "execution_count": 14,
   "id": "51385172",
   "metadata": {},
   "outputs": [
    {
     "name": "stdout",
     "output_type": "stream",
     "text": [
      "0.5\n"
     ]
    }
   ],
   "source": [
    "exp_strat.update(20)\n",
    "print(exp_strat.epsilon)"
   ]
  },
  {
   "cell_type": "code",
   "execution_count": 16,
   "id": "7d38e9cc",
   "metadata": {},
   "outputs": [
    {
     "data": {
      "text/plain": [
       "tensor([0, 1, 2, 0, 1])"
      ]
     },
     "execution_count": 16,
     "metadata": {},
     "output_type": "execute_result"
    }
   ],
   "source": [
    "import torch\n",
    "torch.arange(0, 5)%3"
   ]
  },
  {
   "cell_type": "code",
   "execution_count": 28,
   "id": "1a0a7157",
   "metadata": {},
   "outputs": [
    {
     "name": "stdout",
     "output_type": "stream",
     "text": [
      "tensor([[ 0.4446, -0.3754,  1.1079],\n",
      "        [ 0.7860,  0.1047,  0.1031],\n",
      "        [ 0.5682, -0.3683,  1.1609],\n",
      "        [ 0.3840, -1.2969,  0.7715]])\n"
     ]
    },
    {
     "data": {
      "text/plain": [
       "tensor([1.1079, 0.7860, 1.1609, 0.7715])"
      ]
     },
     "execution_count": 28,
     "metadata": {},
     "output_type": "execute_result"
    }
   ],
   "source": [
    "a = torch.randn(4, 3)\n",
    "print(a)\n",
    "torch.max(a,dim=1)[0]"
   ]
  },
  {
   "cell_type": "code",
   "execution_count": 34,
   "id": "f925b0aa",
   "metadata": {},
   "outputs": [
    {
     "name": "stdout",
     "output_type": "stream",
     "text": [
      "tensor([0, 1, 2, 0, 1])\n",
      "tensor([2, 2, 4, 4, 1, 3, 4, 1, 2, 4, 1, 2, 1, 1, 3, 2])\n"
     ]
    }
   ],
   "source": [
    "a=torch.arange(0, 5) % 3\n",
    "print(a)\n",
    "b=torch.tensor([2, 2, 4, 4, 1, 3, 4, 1, 2, 4, 1, 2, 1, 1, 3, 2])\n",
    "print(b)"
   ]
  },
  {
   "cell_type": "code",
   "execution_count": 37,
   "id": "333305f5",
   "metadata": {},
   "outputs": [
    {
     "data": {
      "text/plain": [
       "tensor([[0, 0, 1, 0, 0, 0, 0, 0, 0, 0],\n",
       "        [0, 0, 1, 0, 0, 0, 0, 0, 0, 0],\n",
       "        [0, 0, 0, 0, 1, 0, 0, 0, 0, 0],\n",
       "        [0, 0, 0, 0, 1, 0, 0, 0, 0, 0],\n",
       "        [0, 1, 0, 0, 0, 0, 0, 0, 0, 0],\n",
       "        [0, 0, 0, 1, 0, 0, 0, 0, 0, 0],\n",
       "        [0, 0, 0, 0, 1, 0, 0, 0, 0, 0],\n",
       "        [0, 1, 0, 0, 0, 0, 0, 0, 0, 0],\n",
       "        [0, 0, 1, 0, 0, 0, 0, 0, 0, 0],\n",
       "        [0, 0, 0, 0, 1, 0, 0, 0, 0, 0],\n",
       "        [0, 1, 0, 0, 0, 0, 0, 0, 0, 0],\n",
       "        [0, 0, 1, 0, 0, 0, 0, 0, 0, 0],\n",
       "        [0, 1, 0, 0, 0, 0, 0, 0, 0, 0],\n",
       "        [0, 1, 0, 0, 0, 0, 0, 0, 0, 0],\n",
       "        [0, 0, 0, 1, 0, 0, 0, 0, 0, 0],\n",
       "        [0, 0, 1, 0, 0, 0, 0, 0, 0, 0]])"
      ]
     },
     "execution_count": 37,
     "metadata": {},
     "output_type": "execute_result"
    }
   ],
   "source": [
    "torch.nn.functional.one_hot(b, num_classes=10)"
   ]
  },
  {
   "cell_type": "code",
   "execution_count": 39,
   "id": "ba8ac475",
   "metadata": {},
   "outputs": [
    {
     "data": {
      "text/plain": [
       "torch.int64"
      ]
     },
     "execution_count": 39,
     "metadata": {},
     "output_type": "execute_result"
    }
   ],
   "source": [
    "a.dtype"
   ]
  },
  {
   "cell_type": "code",
   "execution_count": 40,
   "id": "9222389c",
   "metadata": {},
   "outputs": [],
   "source": [
    "from utils.general import get_logger, Progbar, export_plot"
   ]
  },
  {
   "cell_type": "code",
   "execution_count": 42,
   "id": "eec02deb",
   "metadata": {},
   "outputs": [],
   "source": [
    "import matplotlib\n",
    "matplotlib.use('agg')\n",
    "import matplotlib.pyplot as plt"
   ]
  },
  {
   "cell_type": "code",
   "execution_count": 46,
   "id": "5f55f686",
   "metadata": {},
   "outputs": [],
   "source": [
    "export_plot([1,2,3],'scores','output')"
   ]
  },
  {
   "cell_type": "code",
   "execution_count": 48,
   "id": "cfed3080",
   "metadata": {},
   "outputs": [
    {
     "name": "stdout",
     "output_type": "stream",
     "text": [
      "3.8.8\n"
     ]
    }
   ],
   "source": [
    "from platform import python_version\n",
    "print(python_version())"
   ]
  },
  {
   "cell_type": "code",
   "execution_count": 50,
   "id": "6c783696",
   "metadata": {},
   "outputs": [
    {
     "name": "stdout",
     "output_type": "stream",
     "text": [
      "Collecting tensorboard\n",
      "  Downloading tensorboard-2.9.0-py3-none-any.whl (5.8 MB)\n",
      "\u001b[K     |████████████████████████████████| 5.8 MB 4.9 MB/s eta 0:00:01\n",
      "\u001b[?25hCollecting google-auth-oauthlib<0.5,>=0.4.1\n",
      "  Using cached google_auth_oauthlib-0.4.6-py2.py3-none-any.whl (18 kB)\n",
      "Collecting grpcio>=1.24.3\n",
      "  Downloading grpcio-1.46.1-cp38-cp38-macosx_10_10_x86_64.whl (4.4 MB)\n",
      "\u001b[K     |████████████████████████████████| 4.4 MB 5.9 MB/s eta 0:00:01\n",
      "\u001b[?25hCollecting absl-py>=0.4\n",
      "  Downloading absl_py-1.0.0-py3-none-any.whl (126 kB)\n",
      "\u001b[K     |████████████████████████████████| 126 kB 5.7 MB/s eta 0:00:01\n",
      "\u001b[?25hRequirement already satisfied: werkzeug>=1.0.1 in /usr/local/anaconda3/lib/python3.8/site-packages (from tensorboard) (1.0.1)\n",
      "Collecting markdown>=2.6.8\n",
      "  Downloading Markdown-3.3.7-py3-none-any.whl (97 kB)\n",
      "\u001b[K     |████████████████████████████████| 97 kB 10.1 MB/s eta 0:00:01\n",
      "\u001b[?25hCollecting tensorboard-data-server<0.7.0,>=0.6.0\n",
      "  Using cached tensorboard_data_server-0.6.1-py3-none-macosx_10_9_x86_64.whl (3.5 MB)\n",
      "Collecting google-auth<3,>=1.6.3\n",
      "  Downloading google_auth-2.6.6-py2.py3-none-any.whl (156 kB)\n",
      "\u001b[K     |████████████████████████████████| 156 kB 7.2 MB/s eta 0:00:01\n",
      "\u001b[?25hRequirement already satisfied: requests<3,>=2.21.0 in /usr/local/anaconda3/lib/python3.8/site-packages (from tensorboard) (2.25.1)\n",
      "Collecting tensorboard-plugin-wit>=1.6.0\n",
      "  Downloading tensorboard_plugin_wit-1.8.1-py3-none-any.whl (781 kB)\n",
      "\u001b[K     |████████████████████████████████| 781 kB 17.2 MB/s eta 0:00:01\n",
      "\u001b[?25hRequirement already satisfied: numpy>=1.12.0 in /usr/local/anaconda3/lib/python3.8/site-packages (from tensorboard) (1.20.1)\n",
      "Requirement already satisfied: setuptools>=41.0.0 in /usr/local/anaconda3/lib/python3.8/site-packages (from tensorboard) (52.0.0.post20210125)\n",
      "Requirement already satisfied: wheel>=0.26 in /usr/local/anaconda3/lib/python3.8/site-packages (from tensorboard) (0.36.2)\n",
      "Collecting protobuf>=3.9.2\n",
      "  Downloading protobuf-3.20.1-cp38-cp38-macosx_10_9_x86_64.whl (962 kB)\n",
      "\u001b[K     |████████████████████████████████| 962 kB 14.7 MB/s eta 0:00:01\n",
      "\u001b[?25hRequirement already satisfied: six in /usr/local/anaconda3/lib/python3.8/site-packages (from absl-py>=0.4->tensorboard) (1.15.0)\n",
      "Collecting cachetools<6.0,>=2.0.0\n",
      "  Downloading cachetools-5.1.0-py3-none-any.whl (9.2 kB)\n",
      "Collecting pyasn1-modules>=0.2.1\n",
      "  Using cached pyasn1_modules-0.2.8-py2.py3-none-any.whl (155 kB)\n",
      "Collecting rsa<5,>=3.1.4\n",
      "  Using cached rsa-4.8-py3-none-any.whl (39 kB)\n",
      "Collecting requests-oauthlib>=0.7.0\n",
      "  Downloading requests_oauthlib-1.3.1-py2.py3-none-any.whl (23 kB)\n",
      "Collecting importlib-metadata>=4.4\n",
      "  Using cached importlib_metadata-4.11.3-py3-none-any.whl (18 kB)\n",
      "Requirement already satisfied: zipp>=0.5 in /usr/local/anaconda3/lib/python3.8/site-packages (from importlib-metadata>=4.4->markdown>=2.6.8->tensorboard) (3.4.1)\n",
      "Collecting pyasn1<0.5.0,>=0.4.6\n",
      "  Using cached pyasn1-0.4.8-py2.py3-none-any.whl (77 kB)\n",
      "Requirement already satisfied: urllib3<1.27,>=1.21.1 in /usr/local/anaconda3/lib/python3.8/site-packages (from requests<3,>=2.21.0->tensorboard) (1.26.4)\n",
      "Requirement already satisfied: chardet<5,>=3.0.2 in /usr/local/anaconda3/lib/python3.8/site-packages (from requests<3,>=2.21.0->tensorboard) (4.0.0)\n",
      "Requirement already satisfied: idna<3,>=2.5 in /usr/local/anaconda3/lib/python3.8/site-packages (from requests<3,>=2.21.0->tensorboard) (2.10)\n",
      "Requirement already satisfied: certifi>=2017.4.17 in /usr/local/anaconda3/lib/python3.8/site-packages (from requests<3,>=2.21.0->tensorboard) (2020.12.5)\n",
      "Collecting oauthlib>=3.0.0\n",
      "  Downloading oauthlib-3.2.0-py3-none-any.whl (151 kB)\n",
      "\u001b[K     |████████████████████████████████| 151 kB 7.1 MB/s eta 0:00:01\n",
      "\u001b[?25hInstalling collected packages: pyasn1, rsa, pyasn1-modules, oauthlib, cachetools, requests-oauthlib, importlib-metadata, google-auth, tensorboard-plugin-wit, tensorboard-data-server, protobuf, markdown, grpcio, google-auth-oauthlib, absl-py, tensorboard\n",
      "  Attempting uninstall: importlib-metadata\n",
      "    Found existing installation: importlib-metadata 3.10.0\n",
      "    Uninstalling importlib-metadata-3.10.0:\n",
      "      Successfully uninstalled importlib-metadata-3.10.0\n",
      "Successfully installed absl-py-1.0.0 cachetools-5.1.0 google-auth-2.6.6 google-auth-oauthlib-0.4.6 grpcio-1.46.1 importlib-metadata-4.11.3 markdown-3.3.7 oauthlib-3.2.0 protobuf-3.20.1 pyasn1-0.4.8 pyasn1-modules-0.2.8 requests-oauthlib-1.3.1 rsa-4.8 tensorboard-2.9.0 tensorboard-data-server-0.6.1 tensorboard-plugin-wit-1.8.1\n",
      "Note: you may need to restart the kernel to use updated packages.\n"
     ]
    },
    {
     "ename": "ModuleNotFoundError",
     "evalue": "No module named 'gym'",
     "output_type": "error",
     "traceback": [
      "\u001b[0;31m---------------------------------------------------------------------------\u001b[0m",
      "\u001b[0;31mModuleNotFoundError\u001b[0m                       Traceback (most recent call last)",
      "\u001b[0;32m~/Desktop/wku_meili_class/standfordcs234/assignment2/starter_code_torch/q5_linear_torch.py\u001b[0m in \u001b[0;36m<module>\u001b[0;34m\u001b[0m\n\u001b[1;32m      5\u001b[0m \u001b[0;32mfrom\u001b[0m \u001b[0mtorch\u001b[0m \u001b[0;32mimport\u001b[0m \u001b[0mTensor\u001b[0m\u001b[0;34m\u001b[0m\u001b[0;34m\u001b[0m\u001b[0m\n\u001b[1;32m      6\u001b[0m \u001b[0;32mfrom\u001b[0m \u001b[0mutils\u001b[0m\u001b[0;34m.\u001b[0m\u001b[0mtest_env\u001b[0m \u001b[0;32mimport\u001b[0m \u001b[0mEnvTest\u001b[0m\u001b[0;34m\u001b[0m\u001b[0;34m\u001b[0m\u001b[0m\n\u001b[0;32m----> 7\u001b[0;31m \u001b[0;32mfrom\u001b[0m \u001b[0mcore\u001b[0m\u001b[0;34m.\u001b[0m\u001b[0mdeep_q_learning_torch\u001b[0m \u001b[0;32mimport\u001b[0m \u001b[0mDQN\u001b[0m\u001b[0;34m\u001b[0m\u001b[0;34m\u001b[0m\u001b[0m\n\u001b[0m\u001b[1;32m      8\u001b[0m \u001b[0;32mfrom\u001b[0m \u001b[0mq4_schedule\u001b[0m \u001b[0;32mimport\u001b[0m \u001b[0mLinearExploration\u001b[0m\u001b[0;34m,\u001b[0m \u001b[0mLinearSchedule\u001b[0m\u001b[0;34m\u001b[0m\u001b[0;34m\u001b[0m\u001b[0m\n\u001b[1;32m      9\u001b[0m \u001b[0;34m\u001b[0m\u001b[0m\n",
      "\u001b[0;32m~/Desktop/wku_meili_class/standfordcs234/assignment2/starter_code_torch/core/deep_q_learning_torch.py\u001b[0m in \u001b[0;36m<module>\u001b[0;34m\u001b[0m\n\u001b[1;32m      8\u001b[0m \u001b[0;32mfrom\u001b[0m \u001b[0mtorch\u001b[0m\u001b[0;34m.\u001b[0m\u001b[0moptim\u001b[0m \u001b[0;32mimport\u001b[0m \u001b[0mOptimizer\u001b[0m\u001b[0;34m\u001b[0m\u001b[0;34m\u001b[0m\u001b[0m\n\u001b[1;32m      9\u001b[0m \u001b[0;32mfrom\u001b[0m \u001b[0mtorch\u001b[0m\u001b[0;34m.\u001b[0m\u001b[0mutils\u001b[0m\u001b[0;34m.\u001b[0m\u001b[0mtensorboard\u001b[0m \u001b[0;32mimport\u001b[0m \u001b[0mSummaryWriter\u001b[0m\u001b[0;34m\u001b[0m\u001b[0;34m\u001b[0m\u001b[0m\n\u001b[0;32m---> 10\u001b[0;31m \u001b[0;32mfrom\u001b[0m \u001b[0mcore\u001b[0m\u001b[0;34m.\u001b[0m\u001b[0mq_learning\u001b[0m \u001b[0;32mimport\u001b[0m \u001b[0mQN\u001b[0m\u001b[0;34m\u001b[0m\u001b[0;34m\u001b[0m\u001b[0m\n\u001b[0m\u001b[1;32m     11\u001b[0m \u001b[0;34m\u001b[0m\u001b[0m\n\u001b[1;32m     12\u001b[0m \u001b[0;32mclass\u001b[0m \u001b[0mDQN\u001b[0m\u001b[0;34m(\u001b[0m\u001b[0mQN\u001b[0m\u001b[0;34m)\u001b[0m\u001b[0;34m:\u001b[0m\u001b[0;34m\u001b[0m\u001b[0;34m\u001b[0m\u001b[0m\n",
      "\u001b[0;32m~/Desktop/wku_meili_class/standfordcs234/assignment2/starter_code_torch/core/q_learning.py\u001b[0m in \u001b[0;36m<module>\u001b[0;34m\u001b[0m\n\u001b[1;32m      1\u001b[0m \u001b[0;32mimport\u001b[0m \u001b[0mos\u001b[0m\u001b[0;34m\u001b[0m\u001b[0;34m\u001b[0m\u001b[0m\n\u001b[0;32m----> 2\u001b[0;31m \u001b[0;32mimport\u001b[0m \u001b[0mgym\u001b[0m\u001b[0;34m\u001b[0m\u001b[0;34m\u001b[0m\u001b[0m\n\u001b[0m\u001b[1;32m      3\u001b[0m \u001b[0;32mimport\u001b[0m \u001b[0mnumpy\u001b[0m \u001b[0;32mas\u001b[0m \u001b[0mnp\u001b[0m\u001b[0;34m\u001b[0m\u001b[0;34m\u001b[0m\u001b[0m\n\u001b[1;32m      4\u001b[0m \u001b[0;32mimport\u001b[0m \u001b[0mtime\u001b[0m\u001b[0;34m\u001b[0m\u001b[0;34m\u001b[0m\u001b[0m\n\u001b[1;32m      5\u001b[0m \u001b[0;32mimport\u001b[0m \u001b[0msys\u001b[0m\u001b[0;34m\u001b[0m\u001b[0;34m\u001b[0m\u001b[0m\n",
      "\u001b[0;31mModuleNotFoundError\u001b[0m: No module named 'gym'"
     ]
    }
   ],
   "source": [
    " %pip install tensorboard\n",
    "stris%run q5_linear_torch.py "
   ]
  },
  {
   "cell_type": "code",
   "execution_count": 54,
   "id": "dc3449db",
   "metadata": {},
   "outputs": [
    {
     "data": {
      "text/plain": [
       "20"
      ]
     },
     "execution_count": 54,
     "metadata": {},
     "output_type": "execute_result"
    }
   ],
   "source": [
    "stride=4\n",
    "img_height =4\n",
    "filter_size=32\n",
    "((stride - 1) * img_height - stride + filter_size) // 2"
   ]
  },
  {
   "cell_type": "code",
   "execution_count": 55,
   "id": "64a0bc18",
   "metadata": {},
   "outputs": [],
   "source": [
    "shape=(8,8,6)\n",
    "state_0 = np.random.randint(0, 50, shape, dtype=np.uint16)"
   ]
  },
  {
   "cell_type": "code",
   "execution_count": 56,
   "id": "0269fa20",
   "metadata": {},
   "outputs": [
    {
     "data": {
      "text/plain": [
       "array([[[44, 18, 18, 31, 19, 20],\n",
       "        [13, 28, 46, 32, 43, 26],\n",
       "        [42,  1, 11, 33, 36, 40],\n",
       "        [32, 46, 19, 28, 46, 10],\n",
       "        [ 2,  1, 32, 30, 45, 28],\n",
       "        [39, 30, 36,  4, 37,  9],\n",
       "        [26, 33, 33,  2,  1, 19],\n",
       "        [26, 30, 31, 31, 19,  9]],\n",
       "\n",
       "       [[ 4, 10, 21, 17, 34, 35],\n",
       "        [38, 40, 28, 42, 15, 36],\n",
       "        [14,  2, 22,  6, 11, 38],\n",
       "        [38, 12, 21,  1, 14,  8],\n",
       "        [17,  5, 31, 38, 47, 28],\n",
       "        [29, 32,  4, 14, 15,  8],\n",
       "        [ 7, 39, 45, 45,  2, 35],\n",
       "        [33, 35, 13, 48, 42, 42]],\n",
       "\n",
       "       [[29, 20, 26, 25,  8, 41],\n",
       "        [29, 40, 29, 26, 44,  1],\n",
       "        [18, 10, 13, 35, 49, 21],\n",
       "        [ 3, 49, 15, 23, 13, 26],\n",
       "        [27, 29, 27,  9, 13,  0],\n",
       "        [24, 30, 24, 11, 32, 11],\n",
       "        [ 1,  5, 44, 42, 30, 37],\n",
       "        [16, 20, 25, 21,  7, 38]],\n",
       "\n",
       "       [[31, 37, 48, 24, 27, 32],\n",
       "        [39, 32, 33, 22, 17, 20],\n",
       "        [28, 42, 28, 36, 28,  3],\n",
       "        [21, 12, 15, 47,  3, 35],\n",
       "        [23, 28, 48,  2, 22,  1],\n",
       "        [10, 41, 39, 43, 12, 49],\n",
       "        [24, 34,  3,  2, 34,  1],\n",
       "        [13,  6, 31, 24, 43,  5]],\n",
       "\n",
       "       [[11, 40,  4, 49, 48, 31],\n",
       "        [36, 47, 30, 46, 32,  2],\n",
       "        [39, 32, 30, 30, 15, 34],\n",
       "        [18, 19, 22, 39, 24,  7],\n",
       "        [23, 31, 49,  3, 38, 41],\n",
       "        [26, 14, 49,  0, 49, 19],\n",
       "        [10, 22,  6, 27, 32, 13],\n",
       "        [ 9,  3, 18, 11, 48, 23]],\n",
       "\n",
       "       [[ 2, 44, 48, 46, 36, 49],\n",
       "        [36, 24, 18, 16, 38, 20],\n",
       "        [18,  4,  2, 27, 18, 30],\n",
       "        [15, 14,  2,  5, 20, 36],\n",
       "        [25, 22, 17, 42, 34, 10],\n",
       "        [45, 12, 33,  7, 14, 23],\n",
       "        [16, 22, 19, 36, 48, 18],\n",
       "        [22, 27,  6,  4, 28, 15]],\n",
       "\n",
       "       [[ 0,  7, 23,  7, 45, 49],\n",
       "        [ 6, 21, 22,  9,  3,  6],\n",
       "        [13, 15,  6, 19, 44, 16],\n",
       "        [28,  0, 28, 48, 31, 28],\n",
       "        [41, 48, 16, 13,  9,  8],\n",
       "        [31, 13, 39, 33, 10, 11],\n",
       "        [45, 29, 18, 12,  9, 27],\n",
       "        [34, 11, 46,  3, 29, 38]],\n",
       "\n",
       "       [[39, 43, 44, 49, 49,  3],\n",
       "        [46, 24, 23, 17, 17,  0],\n",
       "        [20,  2, 31,  7, 28, 15],\n",
       "        [13,  4,  6, 27, 41, 40],\n",
       "        [27, 47, 40, 34, 26, 20],\n",
       "        [15, 16, 15, 12,  3, 41],\n",
       "        [46, 21, 23, 29,  9, 25],\n",
       "        [45, 23, 12, 47, 29,  6]]], dtype=uint16)"
      ]
     },
     "execution_count": 56,
     "metadata": {},
     "output_type": "execute_result"
    }
   ],
   "source": [
    "state_0"
   ]
  },
  {
   "cell_type": "code",
   "execution_count": 57,
   "id": "27b300d5",
   "metadata": {},
   "outputs": [
    {
     "data": {
      "text/plain": [
       "array([[[116, 112, 111, 122, 121, 142],\n",
       "        [131, 119, 106, 120, 130, 110],\n",
       "        [132, 115, 148, 130, 110, 142],\n",
       "        [130, 136, 109, 135, 104, 112],\n",
       "        [148, 133, 117, 120, 104, 115],\n",
       "        [147, 130, 119, 127, 137, 106],\n",
       "        [112, 136, 145, 100, 106, 114],\n",
       "        [108, 101, 106, 145, 149, 102]],\n",
       "\n",
       "       [[109, 111, 141, 143, 122, 142],\n",
       "        [128, 148, 132, 109, 124, 124],\n",
       "        [139, 105, 139, 117, 118, 118],\n",
       "        [102, 115, 134, 147, 110, 142],\n",
       "        [119, 131, 131, 127, 103, 144],\n",
       "        [110, 131, 136, 103, 104, 125],\n",
       "        [106, 119, 132, 105, 107, 109],\n",
       "        [131, 113, 104, 122, 102, 105]],\n",
       "\n",
       "       [[112, 110, 121, 112, 125, 132],\n",
       "        [131, 105, 104, 106, 132, 142],\n",
       "        [139, 149, 103, 132, 130, 126],\n",
       "        [107, 144, 102, 120, 106, 144],\n",
       "        [103, 107, 122, 116, 121, 146],\n",
       "        [140, 124, 132, 101, 138, 128],\n",
       "        [137, 114, 137, 131, 107, 119],\n",
       "        [122, 145, 127, 141, 104, 131]],\n",
       "\n",
       "       [[125, 106, 124, 148, 114, 124],\n",
       "        [138, 101, 109, 121, 119, 118],\n",
       "        [138, 142, 131, 148, 148, 124],\n",
       "        [135, 130, 144, 146, 120, 129],\n",
       "        [131, 148, 139, 134, 146, 132],\n",
       "        [134, 124, 100, 103, 139, 114],\n",
       "        [143, 142, 120, 103, 147, 113],\n",
       "        [135, 131, 103, 134, 122, 131]],\n",
       "\n",
       "       [[123, 100, 116, 137, 114, 147],\n",
       "        [133, 119, 142, 147, 141, 132],\n",
       "        [142, 120, 107, 142, 130, 116],\n",
       "        [103, 141, 120, 111, 140, 103],\n",
       "        [143, 125, 101, 137, 127, 100],\n",
       "        [114, 145, 109, 131, 102, 103],\n",
       "        [141, 121, 125, 143, 124, 112],\n",
       "        [143, 137, 111, 116, 114, 102]],\n",
       "\n",
       "       [[117, 117, 101, 119, 137, 113],\n",
       "        [104, 125, 105, 131, 119, 141],\n",
       "        [129, 146, 107, 140, 147, 128],\n",
       "        [137, 111, 127, 104, 114, 112],\n",
       "        [113, 112, 137, 124, 132, 132],\n",
       "        [131, 146, 114, 142, 111, 111],\n",
       "        [140, 133, 130, 138, 133, 103],\n",
       "        [149, 138, 132, 132, 115, 127]],\n",
       "\n",
       "       [[115, 119, 123, 130, 107, 118],\n",
       "        [134, 119, 135, 143, 145, 108],\n",
       "        [119, 111, 120, 114, 129, 113],\n",
       "        [121, 111, 139, 127, 137, 131],\n",
       "        [121, 116, 133, 114, 141, 109],\n",
       "        [103, 143, 129, 138, 132, 104],\n",
       "        [112, 114, 106, 149, 101, 147],\n",
       "        [124, 123, 103, 100, 127, 109]],\n",
       "\n",
       "       [[142, 125, 127, 108, 146, 142],\n",
       "        [126, 100, 109, 113, 110, 144],\n",
       "        [143, 110, 128, 108, 149, 116],\n",
       "        [116, 119, 122, 120, 115, 123],\n",
       "        [133, 135, 123, 129, 135, 107],\n",
       "        [121, 141, 104, 134, 108, 104],\n",
       "        [142, 119, 145, 104, 101, 131],\n",
       "        [107, 146, 135, 132, 129, 136]]], dtype=uint16)"
      ]
     },
     "execution_count": 57,
     "metadata": {},
     "output_type": "execute_result"
    }
   ],
   "source": [
    "state_1 = np.random.randint(100, 150, shape, dtype=np.uint16)\n",
    "state_1"
   ]
  },
  {
   "cell_type": "code",
   "execution_count": 58,
   "id": "efd863fd",
   "metadata": {},
   "outputs": [
    {
     "data": {
      "text/plain": [
       "0.757930882695492"
      ]
     },
     "execution_count": 58,
     "metadata": {},
     "output_type": "execute_result"
    }
   ],
   "source": [
    "np.random.rand()"
   ]
  },
  {
   "cell_type": "code",
   "execution_count": 64,
   "id": "415564d5",
   "metadata": {},
   "outputs": [
    {
     "data": {
      "text/plain": [
       "3"
      ]
     },
     "execution_count": 64,
     "metadata": {},
     "output_type": "execute_result"
    }
   ],
   "source": [
    "349//100"
   ]
  },
  {
   "cell_type": "code",
   "execution_count": 94,
   "id": "bce649dc",
   "metadata": {},
   "outputs": [
    {
     "name": "stdout",
     "output_type": "stream",
     "text": [
      "tensor([[[ 0.1864,  0.1465],\n",
      "         [-2.1349, -0.0449],\n",
      "         [ 0.6333,  0.3722],\n",
      "         [ 0.9121,  0.7015]],\n",
      "\n",
      "        [[ 0.0352, -1.7649],\n",
      "         [-0.2103, -0.7273],\n",
      "         [-1.7923, -0.1965],\n",
      "         [-1.3804,  0.9932]],\n",
      "\n",
      "        [[ 0.0996, -1.5308],\n",
      "         [-0.6203, -1.2527],\n",
      "         [-0.4741, -1.0620],\n",
      "         [ 0.8359,  1.3252]],\n",
      "\n",
      "        [[ 0.0321,  0.8137],\n",
      "         [-1.2941, -0.5392],\n",
      "         [-0.0583, -0.3762],\n",
      "         [-0.5618, -1.0204]]])\n"
     ]
    },
    {
     "data": {
      "text/plain": [
       "torch.Size([2, 4, 4])"
      ]
     },
     "execution_count": 94,
     "metadata": {},
     "output_type": "execute_result"
    }
   ],
   "source": [
    "import torch\n",
    "x = torch.randn(4, 4,2)\n",
    "print(x)\n",
    "torch.movedim(x, 2, 0).shape"
   ]
  },
  {
   "cell_type": "code",
   "execution_count": 78,
   "id": "43c2c48d",
   "metadata": {},
   "outputs": [
    {
     "data": {
      "text/plain": [
       "tensor([[ 0.7146,  1.4473,  1.4733, -1.8084],\n",
       "        [-1.1987,  0.0792, -0.5801,  2.5141],\n",
       "        [ 0.0046,  0.2811, -0.3957, -0.1813]])"
      ]
     },
     "execution_count": 78,
     "metadata": {},
     "output_type": "execute_result"
    }
   ],
   "source": [
    "x.view(3,4)"
   ]
  },
  {
   "cell_type": "code",
   "execution_count": 93,
   "id": "69dff661",
   "metadata": {},
   "outputs": [
    {
     "ename": "TypeError",
     "evalue": "reshape() takes 2 positional arguments but 3 were given",
     "output_type": "error",
     "traceback": [
      "\u001b[0;31m---------------------------------------------------------------------------\u001b[0m",
      "\u001b[0;31mTypeError\u001b[0m                                 Traceback (most recent call last)",
      "\u001b[0;32m<ipython-input-93-6fd79915f2d0>\u001b[0m in \u001b[0;36m<module>\u001b[0;34m\u001b[0m\n\u001b[0;32m----> 1\u001b[0;31m \u001b[0mx\u001b[0m \u001b[0;34m=\u001b[0m \u001b[0mtorch\u001b[0m\u001b[0;34m.\u001b[0m\u001b[0mreshape\u001b[0m\u001b[0;34m(\u001b[0m\u001b[0;36m4\u001b[0m\u001b[0;34m,\u001b[0m \u001b[0;36m4\u001b[0m\u001b[0;34m,\u001b[0m\u001b[0;36m2\u001b[0m\u001b[0;34m)\u001b[0m\u001b[0;34m\u001b[0m\u001b[0;34m\u001b[0m\u001b[0m\n\u001b[0m\u001b[1;32m      2\u001b[0m \u001b[0mprint\u001b[0m\u001b[0;34m(\u001b[0m\u001b[0mx\u001b[0m\u001b[0;34m)\u001b[0m\u001b[0;34m\u001b[0m\u001b[0;34m\u001b[0m\u001b[0m\n\u001b[1;32m      3\u001b[0m \u001b[0mtorch\u001b[0m\u001b[0;34m.\u001b[0m\u001b[0mmovedim\u001b[0m\u001b[0;34m(\u001b[0m\u001b[0mx\u001b[0m\u001b[0;34m,\u001b[0m \u001b[0;36m2\u001b[0m\u001b[0;34m,\u001b[0m \u001b[0;36m0\u001b[0m\u001b[0;34m)\u001b[0m\u001b[0;34m.\u001b[0m\u001b[0mshape\u001b[0m\u001b[0;34m\u001b[0m\u001b[0;34m\u001b[0m\u001b[0m\n",
      "\u001b[0;31mTypeError\u001b[0m: reshape() takes 2 positional arguments but 3 were given"
     ]
    }
   ],
   "source": [
    "x = torch.reshape(4, 4,2)\n",
    "print(x)\n"
   ]
  },
  {
   "cell_type": "code",
   "execution_count": 85,
   "id": "2af9ecbc",
   "metadata": {},
   "outputs": [
    {
     "ename": "TypeError",
     "evalue": "transpose() received an invalid combination of arguments - got (int, int, int), but expected one of:\n * (int dim0, int dim1)\n * (name dim0, name dim1)\n",
     "output_type": "error",
     "traceback": [
      "\u001b[0;31m---------------------------------------------------------------------------\u001b[0m",
      "\u001b[0;31mTypeError\u001b[0m                                 Traceback (most recent call last)",
      "\u001b[0;32m<ipython-input-85-ce78f38963b7>\u001b[0m in \u001b[0;36m<module>\u001b[0;34m\u001b[0m\n\u001b[0;32m----> 1\u001b[0;31m \u001b[0mx\u001b[0m\u001b[0;34m.\u001b[0m\u001b[0mtranspose\u001b[0m\u001b[0;34m(\u001b[0m\u001b[0;36m2\u001b[0m\u001b[0;34m,\u001b[0m\u001b[0;36m0\u001b[0m\u001b[0;34m,\u001b[0m\u001b[0;36m1\u001b[0m\u001b[0;34m)\u001b[0m\u001b[0;34m\u001b[0m\u001b[0;34m\u001b[0m\u001b[0m\n\u001b[0m",
      "\u001b[0;31mTypeError\u001b[0m: transpose() received an invalid combination of arguments - got (int, int, int), but expected one of:\n * (int dim0, int dim1)\n * (name dim0, name dim1)\n"
     ]
    }
   ],
   "source": [
    "torch.movedim(x, 2, 0).shape"
   ]
  },
  {
   "cell_type": "code",
   "execution_count": 87,
   "id": "de1e40eb",
   "metadata": {},
   "outputs": [
    {
     "data": {
      "text/plain": [
       "(3, 12, 12)"
      ]
     },
     "execution_count": 87,
     "metadata": {},
     "output_type": "execute_result"
    }
   ],
   "source": [
    "x = np.zeros((12, 12, 3))\n",
    "x.shape\n",
    "#yields: \n",
    "(12, 12, 3)\n",
    "\n",
    "x = np.moveaxis(x, -1, 0)\n",
    "x.shape\n",
    "#yields: \n",
    "(3, 12, 12)"
   ]
  },
  {
   "cell_type": "code",
   "execution_count": 97,
   "id": "cb88d361",
   "metadata": {},
   "outputs": [
    {
     "data": {
      "text/plain": [
       "134"
      ]
     },
     "execution_count": 97,
     "metadata": {},
     "output_type": "execute_result"
    }
   ],
   "source": [
    "((4-1)*80-4+32)//2"
   ]
  },
  {
   "cell_type": "code",
   "execution_count": 99,
   "id": "339cec95",
   "metadata": {},
   "outputs": [
    {
     "data": {
      "text/plain": [
       "80.0"
      ]
     },
     "execution_count": 99,
     "metadata": {},
     "output_type": "execute_result"
    }
   ],
   "source": [
    "import math\n",
    "math.sqrt(6400)"
   ]
  },
  {
   "cell_type": "code",
   "execution_count": null,
   "id": "df7bf832",
   "metadata": {},
   "outputs": [],
   "source": []
  }
 ],
 "metadata": {
  "kernelspec": {
   "display_name": "Python 3",
   "language": "python",
   "name": "python3"
  },
  "language_info": {
   "codemirror_mode": {
    "name": "ipython",
    "version": 3
   },
   "file_extension": ".py",
   "mimetype": "text/x-python",
   "name": "python",
   "nbconvert_exporter": "python",
   "pygments_lexer": "ipython3",
   "version": "3.8.8"
  }
 },
 "nbformat": 4,
 "nbformat_minor": 5
}
